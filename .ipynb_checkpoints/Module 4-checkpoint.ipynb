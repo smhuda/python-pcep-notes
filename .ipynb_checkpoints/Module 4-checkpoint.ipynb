{
 "cells": [
  {
   "cell_type": "markdown",
   "id": "9f30dfb2",
   "metadata": {},
   "source": [
    "## Datastructures\n",
    "\n",
    "- mutable (elements can change over time)\n",
    "- immutable (elements cannot change)\n",
    "\n",
    "## Category:\n",
    "\n",
    "- FIFO (First in First out)\n",
    "- LIFO (Last in First out)\n",
    "\n",
    "## Type:\n",
    "\n",
    "- list is mutable\n",
    "- tuple is immutable\n",
    "- dictionary is mutable\n",
    "- set is mutable"
   ]
  },
  {
   "cell_type": "code",
   "execution_count": 1,
   "id": "f15b7f17",
   "metadata": {},
   "outputs": [
    {
     "data": {
      "text/plain": [
       "['__add__',\n",
       " '__class__',\n",
       " '__contains__',\n",
       " '__delattr__',\n",
       " '__delitem__',\n",
       " '__dir__',\n",
       " '__doc__',\n",
       " '__eq__',\n",
       " '__format__',\n",
       " '__ge__',\n",
       " '__getattribute__',\n",
       " '__getitem__',\n",
       " '__gt__',\n",
       " '__hash__',\n",
       " '__iadd__',\n",
       " '__imul__',\n",
       " '__init__',\n",
       " '__init_subclass__',\n",
       " '__iter__',\n",
       " '__le__',\n",
       " '__len__',\n",
       " '__lt__',\n",
       " '__mul__',\n",
       " '__ne__',\n",
       " '__new__',\n",
       " '__reduce__',\n",
       " '__reduce_ex__',\n",
       " '__repr__',\n",
       " '__reversed__',\n",
       " '__rmul__',\n",
       " '__setattr__',\n",
       " '__setitem__',\n",
       " '__sizeof__',\n",
       " '__str__',\n",
       " '__subclasshook__',\n",
       " 'append',\n",
       " 'clear',\n",
       " 'copy',\n",
       " 'count',\n",
       " 'extend',\n",
       " 'index',\n",
       " 'insert',\n",
       " 'pop',\n",
       " 'remove',\n",
       " 'reverse',\n",
       " 'sort']"
      ]
     },
     "execution_count": 1,
     "metadata": {},
     "output_type": "execute_result"
    }
   ],
   "source": [
    "a = list((1,2,3,4,5))\n",
    "dir(a)"
   ]
  },
  {
   "cell_type": "markdown",
   "id": "e199821c",
   "metadata": {},
   "source": [
    "## Appending"
   ]
  },
  {
   "cell_type": "code",
   "execution_count": 8,
   "id": "c31278a5",
   "metadata": {},
   "outputs": [
    {
     "data": {
      "text/plain": [
       "[2, 3, 4, 5, 6, 6]"
      ]
     },
     "execution_count": 8,
     "metadata": {},
     "output_type": "execute_result"
    }
   ],
   "source": [
    "a.append(6)\n",
    "a"
   ]
  },
  {
   "cell_type": "markdown",
   "id": "eb7b94b8",
   "metadata": {},
   "source": [
    "## Tuples"
   ]
  },
  {
   "cell_type": "code",
   "execution_count": 7,
   "id": "0c4e66fa",
   "metadata": {},
   "outputs": [
    {
     "name": "stdout",
     "output_type": "stream",
     "text": [
      "(1, 2, 3, 4, 5)\n"
     ]
    }
   ],
   "source": [
    "\n",
    "b = tuple((1,2,3,4,5))\n",
    "print(b)"
   ]
  },
  {
   "cell_type": "code",
   "execution_count": 9,
   "id": "2dd3ea5c",
   "metadata": {},
   "outputs": [
    {
     "data": {
      "text/plain": [
       "0"
      ]
     },
     "execution_count": 9,
     "metadata": {},
     "output_type": "execute_result"
    }
   ],
   "source": [
    "b.count(8)\n"
   ]
  },
  {
   "cell_type": "code",
   "execution_count": 10,
   "id": "4fbb03f0",
   "metadata": {},
   "outputs": [
    {
     "data": {
      "text/plain": [
       "2"
      ]
     },
     "execution_count": 10,
     "metadata": {},
     "output_type": "execute_result"
    }
   ],
   "source": [
    "b.index(3)\n"
   ]
  },
  {
   "cell_type": "code",
   "execution_count": 12,
   "id": "acd64ff3",
   "metadata": {},
   "outputs": [
    {
     "name": "stdout",
     "output_type": "stream",
     "text": [
      "{'a': 1, 'b': 2, 'c': 3}\n"
     ]
    }
   ],
   "source": [
    "c = {'a':1,'b':2,'c':3}\n",
    "print (c)"
   ]
  },
  {
   "cell_type": "code",
   "execution_count": 13,
   "id": "e24efd21",
   "metadata": {},
   "outputs": [
    {
     "data": {
      "text/plain": [
       "2"
      ]
     },
     "execution_count": 13,
     "metadata": {},
     "output_type": "execute_result"
    }
   ],
   "source": [
    "c.get('b')\n"
   ]
  },
  {
   "cell_type": "code",
   "execution_count": 14,
   "id": "084cf7bc",
   "metadata": {},
   "outputs": [
    {
     "data": {
      "text/plain": [
       "dict_values([1, 2, 3])"
      ]
     },
     "execution_count": 14,
     "metadata": {},
     "output_type": "execute_result"
    }
   ],
   "source": [
    "c.values()\n"
   ]
  },
  {
   "cell_type": "code",
   "execution_count": 15,
   "id": "d9be4ea5",
   "metadata": {},
   "outputs": [
    {
     "data": {
      "text/plain": [
       "dict_keys(['a', 'b', 'c'])"
      ]
     },
     "execution_count": 15,
     "metadata": {},
     "output_type": "execute_result"
    }
   ],
   "source": [
    "c.keys()\n"
   ]
  },
  {
   "cell_type": "markdown",
   "id": "06ce605d",
   "metadata": {},
   "source": [
    "## For Loop"
   ]
  },
  {
   "cell_type": "code",
   "execution_count": 16,
   "id": "689785fa",
   "metadata": {},
   "outputs": [
    {
     "name": "stdout",
     "output_type": "stream",
     "text": [
      "a 1\n",
      "b 2\n",
      "c 3\n"
     ]
    }
   ],
   "source": [
    "for key in c:\n",
    "    print(key, c[key])"
   ]
  },
  {
   "cell_type": "code",
   "execution_count": 18,
   "id": "55b31a7b",
   "metadata": {},
   "outputs": [
    {
     "name": "stdout",
     "output_type": "stream",
     "text": [
      "{'a': [1, 2, 3], 'b': [4, 5, 6], 'c': [7, 8, 9]}\n"
     ]
    }
   ],
   "source": [
    "d = {'a':[1,2,3],'b':[4,5,6],'c':[7,8,9]}\n",
    "print (d)"
   ]
  },
  {
   "cell_type": "code",
   "execution_count": 19,
   "id": "0a71da5e",
   "metadata": {},
   "outputs": [
    {
     "name": "stdout",
     "output_type": "stream",
     "text": [
      "[{'a': 1}, {'b': 2}, {'c': 3}]\n"
     ]
    }
   ],
   "source": [
    "e = [{'a':1},{'b':2},{'c':3}]\n",
    "print (e)"
   ]
  },
  {
   "cell_type": "code",
   "execution_count": 20,
   "id": "7da086a8",
   "metadata": {},
   "outputs": [
    {
     "name": "stdout",
     "output_type": "stream",
     "text": [
      "{1, 2, 3, 4, 5}\n"
     ]
    }
   ],
   "source": [
    "f = set((1,1,2,2,3,4,4,5,5))\n",
    "print (f)"
   ]
  },
  {
   "cell_type": "code",
   "execution_count": 21,
   "id": "115280c3",
   "metadata": {},
   "outputs": [
    {
     "name": "stdout",
     "output_type": "stream",
     "text": [
      "{1, 2, 3, 4, 5, 6}\n"
     ]
    }
   ],
   "source": [
    "f.add(6)\n",
    "print(f)"
   ]
  },
  {
   "cell_type": "code",
   "execution_count": 26,
   "id": "b162845e",
   "metadata": {},
   "outputs": [
    {
     "data": {
      "text/plain": [
       "(5, {6})"
      ]
     },
     "execution_count": 26,
     "metadata": {},
     "output_type": "execute_result"
    }
   ],
   "source": [
    "popped = f.pop()\n",
    "popped, f\n"
   ]
  },
  {
   "cell_type": "markdown",
   "id": "724d429e",
   "metadata": {},
   "source": [
    "## String functions\n",
    "\n",
    "-``upper()``<br>\n",
    "-``lower()``<br>\n",
    "-``capitalize()``<br>\n",
    "-``split()``<br>\n",
    "-``join()``<br>\n",
    "-``len()``<br>\n",
    "\n",
    "## Character functions\n",
    "\n",
    "-``chr()``<br>\n",
    "-``ord()``<br>"
   ]
  },
  {
   "cell_type": "markdown",
   "id": "f2be7b68",
   "metadata": {},
   "source": [
    "## Upper case conversion"
   ]
  },
  {
   "cell_type": "code",
   "execution_count": 35,
   "id": "9946f527",
   "metadata": {},
   "outputs": [
    {
     "data": {
      "text/plain": [
       "'PCEP EXAM IS COOL TO HAVE'"
      ]
     },
     "execution_count": 35,
     "metadata": {},
     "output_type": "execute_result"
    }
   ],
   "source": [
    "a_string = \"pcEp exAm is Cool tO haVe\"\n",
    "a_string.upper()\n"
   ]
  },
  {
   "cell_type": "code",
   "execution_count": 29,
   "id": "8ae8cda3",
   "metadata": {},
   "outputs": [
    {
     "data": {
      "text/plain": [
       "'pcEp exAm is Cool tO haVe'"
      ]
     },
     "execution_count": 29,
     "metadata": {},
     "output_type": "execute_result"
    }
   ],
   "source": [
    "a_string"
   ]
  },
  {
   "cell_type": "markdown",
   "id": "93dfee4b",
   "metadata": {},
   "source": [
    "## Lower case conversion"
   ]
  },
  {
   "cell_type": "code",
   "execution_count": 30,
   "id": "2fc08f5e",
   "metadata": {},
   "outputs": [
    {
     "data": {
      "text/plain": [
       "'pcep exam is cool to have'"
      ]
     },
     "execution_count": 30,
     "metadata": {},
     "output_type": "execute_result"
    }
   ],
   "source": [
    "a_string.lower()\n"
   ]
  },
  {
   "cell_type": "markdown",
   "id": "8ae01755",
   "metadata": {},
   "source": [
    "## Capitalize first letter conversion"
   ]
  },
  {
   "cell_type": "code",
   "execution_count": 31,
   "id": "a7a0490d",
   "metadata": {},
   "outputs": [
    {
     "data": {
      "text/plain": [
       "'Pcep exam is cool to have'"
      ]
     },
     "execution_count": 31,
     "metadata": {},
     "output_type": "execute_result"
    }
   ],
   "source": [
    "a_string.capitalize()"
   ]
  },
  {
   "cell_type": "markdown",
   "id": "81a4fa4b",
   "metadata": {},
   "source": [
    "## Splitting with a 'character/symbol'"
   ]
  },
  {
   "cell_type": "code",
   "execution_count": 36,
   "id": "3144abc6",
   "metadata": {},
   "outputs": [
    {
     "data": {
      "text/plain": [
       "['pcEp', 'exAm', 'is', 'Cool', 'tO', 'haVe']"
      ]
     },
     "execution_count": 36,
     "metadata": {},
     "output_type": "execute_result"
    }
   ],
   "source": [
    "a_string.split(' ')"
   ]
  },
  {
   "cell_type": "code",
   "execution_count": 37,
   "id": "1b8bd7cd",
   "metadata": {},
   "outputs": [
    {
     "data": {
      "text/plain": [
       "['', 'cE', ' exAm is Cool tO haVe']"
      ]
     },
     "execution_count": 37,
     "metadata": {},
     "output_type": "execute_result"
    }
   ],
   "source": [
    "a_string.split('p')"
   ]
  },
  {
   "cell_type": "code",
   "execution_count": 40,
   "id": "64f1e037",
   "metadata": {},
   "outputs": [],
   "source": [
    "b_string = \"This is another string\""
   ]
  },
  {
   "cell_type": "code",
   "execution_count": 41,
   "id": "15c52cc1",
   "metadata": {},
   "outputs": [
    {
     "data": {
      "text/plain": [
       "'pcEp exAm is Cool tO haVe-This is another string'"
      ]
     },
     "execution_count": 41,
     "metadata": {},
     "output_type": "execute_result"
    }
   ],
   "source": [
    "'-'.join([a_string, b_string])"
   ]
  },
  {
   "cell_type": "code",
   "execution_count": 50,
   "id": "b4fc69c7",
   "metadata": {},
   "outputs": [
    {
     "data": {
      "text/plain": [
       "25"
      ]
     },
     "execution_count": 50,
     "metadata": {},
     "output_type": "execute_result"
    }
   ],
   "source": [
    "len(a_string)"
   ]
  },
  {
   "cell_type": "code",
   "execution_count": 51,
   "id": "a3115695",
   "metadata": {},
   "outputs": [],
   "source": [
    "u = 'a'"
   ]
  },
  {
   "cell_type": "code",
   "execution_count": 52,
   "id": "8b0bee18",
   "metadata": {},
   "outputs": [
    {
     "data": {
      "text/plain": [
       "97"
      ]
     },
     "execution_count": 52,
     "metadata": {},
     "output_type": "execute_result"
    }
   ],
   "source": [
    "ord(u)"
   ]
  },
  {
   "cell_type": "code",
   "execution_count": 53,
   "id": "6bbf42fd",
   "metadata": {},
   "outputs": [
    {
     "data": {
      "text/plain": [
       "99"
      ]
     },
     "execution_count": 53,
     "metadata": {},
     "output_type": "execute_result"
    }
   ],
   "source": [
    "ord('a') + 2"
   ]
  },
  {
   "cell_type": "code",
   "execution_count": 54,
   "id": "8b77594f",
   "metadata": {},
   "outputs": [
    {
     "data": {
      "text/plain": [
       "'p'"
      ]
     },
     "execution_count": 54,
     "metadata": {},
     "output_type": "execute_result"
    }
   ],
   "source": [
    "i = 112\n",
    "chr(i)"
   ]
  },
  {
   "cell_type": "code",
   "execution_count": 55,
   "id": "d51ae0a8",
   "metadata": {},
   "outputs": [
    {
     "data": {
      "text/plain": [
       "'t'"
      ]
     },
     "execution_count": 55,
     "metadata": {},
     "output_type": "execute_result"
    }
   ],
   "source": [
    "chr(ord('p') + 4)"
   ]
  },
  {
   "cell_type": "markdown",
   "id": "f87c36b3",
   "metadata": {},
   "source": [
    "## Function and Generators\n",
    "\n",
    "- Function -> serious memory impact\n",
    "- Generators -> they minimize memory impact\n",
    "\n",
    "## Results:\n",
    "\n",
    "- return -> give back the processes results\n",
    "- yield -> give back one value at a time\n",
    "- Par and arg:\n",
    "- arg -> position and order matters\n",
    "- par -> like keyword arguments"
   ]
  },
  {
   "cell_type": "code",
   "execution_count": 62,
   "id": "4b59ec72",
   "metadata": {},
   "outputs": [
    {
     "name": "stdout",
     "output_type": "stream",
     "text": [
      "[0, 1, 2, 3, 4, 5, 6, 7, 8, 9, 10, 11, 12, 13, 14, 15, 16, 17, 18, 19, 20, 21, 22, 23, 24, 25, 26, 27, 28, 29, 30, 31, 32, 33, 34, 35, 36, 37, 38, 39, 40, 41, 42, 43, 44, 45, 46, 47, 48, 49, 50, 51, 52, 53, 54, 55, 56, 57, 58]\n"
     ]
    }
   ],
   "source": [
    "def generate(number):\n",
    "    a = list()\n",
    "    for i in range(number):\n",
    "        a.append(i)\n",
    "        \n",
    "    return a\n",
    "\n",
    "print(generate(59))"
   ]
  },
  {
   "cell_type": "code",
   "execution_count": 63,
   "id": "28dd41ae",
   "metadata": {},
   "outputs": [
    {
     "name": "stdout",
     "output_type": "stream",
     "text": [
      "<generator object generate at 0x7ff97003fa50>\n"
     ]
    }
   ],
   "source": [
    "def generate(number):\n",
    "    a = list()\n",
    "    for i in range(number):\n",
    "        yield i\n",
    "        \n",
    "print(generate(10000000))"
   ]
  },
  {
   "cell_type": "code",
   "execution_count": 64,
   "id": "927dde5d",
   "metadata": {},
   "outputs": [
    {
     "name": "stdout",
     "output_type": "stream",
     "text": [
      "None\n"
     ]
    }
   ],
   "source": [
    "print(None)\n"
   ]
  },
  {
   "cell_type": "code",
   "execution_count": 66,
   "id": "14a0d617",
   "metadata": {},
   "outputs": [
    {
     "name": "stdout",
     "output_type": "stream",
     "text": [
      "This is whatever\n"
     ]
    },
    {
     "data": {
      "text/plain": [
       "True"
      ]
     },
     "execution_count": 66,
     "metadata": {},
     "output_type": "execute_result"
    }
   ],
   "source": [
    "def return_none(whatever):\n",
    "    print(whatever)\n",
    "    \n",
    "a = return_none(\"This is whatever\")\n",
    "a is None"
   ]
  },
  {
   "cell_type": "code",
   "execution_count": 67,
   "id": "3f43dd23",
   "metadata": {},
   "outputs": [
    {
     "data": {
      "text/plain": [
       "6"
      ]
     },
     "execution_count": 67,
     "metadata": {},
     "output_type": "execute_result"
    }
   ],
   "source": [
    "def sum(a, b):\n",
    "    return a + b\n",
    "\n",
    "sum(1,5)"
   ]
  },
  {
   "cell_type": "code",
   "execution_count": 69,
   "id": "daee37e5",
   "metadata": {},
   "outputs": [],
   "source": [
    "def general(*args, **kwargs):\n",
    "    pass\n",
    "\n",
    "general(1,b = 10)"
   ]
  },
  {
   "cell_type": "code",
   "execution_count": 70,
   "id": "8f81f01f",
   "metadata": {},
   "outputs": [],
   "source": [
    "def general(*args, **kwargs):\n",
    "    print(args)\n",
    "    print(kwargs)"
   ]
  },
  {
   "cell_type": "code",
   "execution_count": 71,
   "id": "7da10466",
   "metadata": {},
   "outputs": [
    {
     "name": "stdout",
     "output_type": "stream",
     "text": [
      "(1,)\n",
      "{'c': 11}\n"
     ]
    }
   ],
   "source": [
    "general(1,c=11)\n"
   ]
  },
  {
   "cell_type": "code",
   "execution_count": 76,
   "id": "b1bf4f73",
   "metadata": {},
   "outputs": [],
   "source": [
    "def general(a=10,b=11):\n",
    "    print(a)\n",
    "    print(b)"
   ]
  },
  {
   "cell_type": "code",
   "execution_count": 77,
   "id": "ccf0c3cd",
   "metadata": {},
   "outputs": [
    {
     "name": "stdout",
     "output_type": "stream",
     "text": [
      "1\n",
      "2\n"
     ]
    }
   ],
   "source": [
    "general(1,2)\n"
   ]
  },
  {
   "cell_type": "code",
   "execution_count": 78,
   "id": "1c5660ee",
   "metadata": {},
   "outputs": [
    {
     "data": {
      "text/plain": [
       "[0, 1, 2, 3, 4, 5, 6, 7, 8, 9]"
      ]
     },
     "execution_count": 78,
     "metadata": {},
     "output_type": "execute_result"
    }
   ],
   "source": [
    "list(generate(10))\n"
   ]
  },
  {
   "cell_type": "code",
   "execution_count": 79,
   "id": "d21d5e20",
   "metadata": {},
   "outputs": [
    {
     "name": "stdout",
     "output_type": "stream",
     "text": [
      "11\n"
     ]
    }
   ],
   "source": [
    "a = 10\n",
    "def a_function(a=11):\n",
    "    print(a)\n",
    "    \n",
    "a_function()"
   ]
  },
  {
   "cell_type": "markdown",
   "id": "bb10372a",
   "metadata": {},
   "source": [
    "## Fibonacci Series"
   ]
  },
  {
   "cell_type": "code",
   "execution_count": 80,
   "id": "7071ed43",
   "metadata": {},
   "outputs": [
    {
     "data": {
      "text/plain": [
       "55"
      ]
     },
     "execution_count": 80,
     "metadata": {},
     "output_type": "execute_result"
    }
   ],
   "source": [
    "def fibonacci(n):\n",
    "    if n <= 1:\n",
    "        return n\n",
    "    else:\n",
    "        return fibonacci(n-1) + fibonacci(n - 2)\n",
    "    \n",
    "fibonacci(10)"
   ]
  },
  {
   "cell_type": "markdown",
   "id": "ee556000",
   "metadata": {},
   "source": [
    "## Exceptions"
   ]
  },
  {
   "cell_type": "code",
   "execution_count": 81,
   "id": "4264246a",
   "metadata": {},
   "outputs": [
    {
     "ename": "SystemExit",
     "evalue": "",
     "output_type": "error",
     "traceback": [
      "An exception has occurred, use %tb to see the full traceback.\n",
      "\u001b[0;31mSystemExit\u001b[0m\n"
     ]
    },
    {
     "name": "stderr",
     "output_type": "stream",
     "text": [
      "/Users/smhuda/opt/anaconda3/lib/python3.8/site-packages/IPython/core/interactiveshell.py:3445: UserWarning: To exit: use 'exit', 'quit', or Ctrl-D.\n",
      "  warn(\"To exit: use 'exit', 'quit', or Ctrl-D.\", stacklevel=1)\n"
     ]
    }
   ],
   "source": [
    "try:\n",
    "    raise SystemExit\n",
    "except Exception as e:\n",
    "    print(\"This was the problem:  {}\".format(e))"
   ]
  },
  {
   "cell_type": "code",
   "execution_count": 82,
   "id": "89f551b7",
   "metadata": {},
   "outputs": [
    {
     "name": "stdout",
     "output_type": "stream",
     "text": [
      "This was a value error\n"
     ]
    }
   ],
   "source": [
    "try:\n",
    "    raise ValueError(\"Value wrong\")\n",
    "except ValueError as e:\n",
    "    print(\"This was a value error\")\n",
    "except:\n",
    "    print(\"This never ecxecutes\")"
   ]
  },
  {
   "cell_type": "code",
   "execution_count": 83,
   "id": "85f27622",
   "metadata": {},
   "outputs": [
    {
     "name": "stdout",
     "output_type": "stream",
     "text": [
      "This never ecxecutes\n"
     ]
    }
   ],
   "source": [
    "try:\n",
    "    raise TypeError(\"Value wrong\")\n",
    "except ValueError as e:\n",
    "    print(\"This was a value error\")\n",
    "except:\n",
    "    print(\"This never ecxecutes\")"
   ]
  }
 ],
 "metadata": {
  "kernelspec": {
   "display_name": "Python 3",
   "language": "python",
   "name": "python3"
  },
  "language_info": {
   "codemirror_mode": {
    "name": "ipython",
    "version": 3
   },
   "file_extension": ".py",
   "mimetype": "text/x-python",
   "name": "python",
   "nbconvert_exporter": "python",
   "pygments_lexer": "ipython3",
   "version": "3.8.8"
  }
 },
 "nbformat": 4,
 "nbformat_minor": 5
}
