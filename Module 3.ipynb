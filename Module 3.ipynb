{
 "cells": [
  {
   "cell_type": "markdown",
   "id": "9c12b7d3",
   "metadata": {},
   "source": [
    "## Operators\n",
    "\n",
    "- Binary\n",
    "- Unary\n",
    "\n",
    "- Priorities\n",
    "- Binding\n",
    "\n",
    "## Bitwise\n",
    "\n",
    "- Bitwise not ~\n",
    "- And &\n",
    "- Xor ^\n",
    "- Shift left <<\n",
    "- Shift right >>"
   ]
  },
  {
   "cell_type": "code",
   "execution_count": 8,
   "id": "cf07530c",
   "metadata": {},
   "outputs": [
    {
     "data": {
      "text/plain": [
       "-3"
      ]
     },
     "execution_count": 8,
     "metadata": {},
     "output_type": "execute_result"
    }
   ],
   "source": [
    "~2"
   ]
  },
  {
   "cell_type": "code",
   "execution_count": 9,
   "id": "e5f0dbaf",
   "metadata": {},
   "outputs": [
    {
     "data": {
      "text/plain": [
       "2"
      ]
     },
     "execution_count": 9,
     "metadata": {},
     "output_type": "execute_result"
    }
   ],
   "source": [
    "2 & 3"
   ]
  },
  {
   "cell_type": "code",
   "execution_count": 10,
   "id": "429bc0c4",
   "metadata": {},
   "outputs": [
    {
     "data": {
      "text/plain": [
       "5"
      ]
     },
     "execution_count": 10,
     "metadata": {},
     "output_type": "execute_result"
    }
   ],
   "source": [
    "1 ^ 4"
   ]
  },
  {
   "cell_type": "markdown",
   "id": "c41fa432",
   "metadata": {},
   "source": [
    "## Boolean Operation\n",
    "\n",
    "- And\n",
    "- OR"
   ]
  },
  {
   "cell_type": "code",
   "execution_count": 13,
   "id": "74496f54",
   "metadata": {},
   "outputs": [
    {
     "data": {
      "text/plain": [
       "False"
      ]
     },
     "execution_count": 13,
     "metadata": {},
     "output_type": "execute_result"
    }
   ],
   "source": [
    "x = 7\n",
    "y = 3\n",
    "x > y and (x-y) < y"
   ]
  },
  {
   "cell_type": "code",
   "execution_count": 15,
   "id": "9e5eb406",
   "metadata": {},
   "outputs": [
    {
     "data": {
      "text/plain": [
       "True"
      ]
     },
     "execution_count": 15,
     "metadata": {},
     "output_type": "execute_result"
    }
   ],
   "source": [
    "x = 7\n",
    "y = 3\n",
    "x > y or y > x"
   ]
  },
  {
   "cell_type": "markdown",
   "id": "2b03668b",
   "metadata": {},
   "source": [
    "## Relational operators\n",
    "\n",
    "- Equals ``=``\n",
    "- Not equals ``!=``\n",
    "- Greater than ``>``\n",
    "- Greater or equal ``>=``\n",
    "- Less than ``<``\n",
    "- Less or equal ``<=``"
   ]
  },
  {
   "cell_type": "code",
   "execution_count": 16,
   "id": "af5f62ed",
   "metadata": {},
   "outputs": [
    {
     "data": {
      "text/plain": [
       "False"
      ]
     },
     "execution_count": 16,
     "metadata": {},
     "output_type": "execute_result"
    }
   ],
   "source": [
    "'Dublin' == 'dublin'"
   ]
  },
  {
   "cell_type": "code",
   "execution_count": 17,
   "id": "490138ce",
   "metadata": {},
   "outputs": [
    {
     "data": {
      "text/plain": [
       "True"
      ]
     },
     "execution_count": 17,
     "metadata": {},
     "output_type": "execute_result"
    }
   ],
   "source": [
    "5 > 2"
   ]
  },
  {
   "cell_type": "code",
   "execution_count": 18,
   "id": "cc95aeff",
   "metadata": {},
   "outputs": [
    {
     "data": {
      "text/plain": [
       "True"
      ]
     },
     "execution_count": 18,
     "metadata": {},
     "output_type": "execute_result"
    }
   ],
   "source": [
    "4 <= 8"
   ]
  },
  {
   "cell_type": "markdown",
   "id": "344f7113",
   "metadata": {},
   "source": [
    "## IO Operations\n",
    "\n",
    "- ``input()``\n",
    "- ``print()``\n",
    "- ``int()``\n",
    "- ``float()``\n",
    "- ``str()``\n",
    "- ``len()``"
   ]
  },
  {
   "cell_type": "code",
   "execution_count": 21,
   "id": "9b7c61a9",
   "metadata": {},
   "outputs": [
    {
     "data": {
      "text/plain": [
       "int"
      ]
     },
     "execution_count": 21,
     "metadata": {},
     "output_type": "execute_result"
    }
   ],
   "source": [
    "type(int(\"25\"))"
   ]
  },
  {
   "cell_type": "code",
   "execution_count": 22,
   "id": "e1088e44",
   "metadata": {},
   "outputs": [
    {
     "data": {
      "text/plain": [
       "float"
      ]
     },
     "execution_count": 22,
     "metadata": {},
     "output_type": "execute_result"
    }
   ],
   "source": [
    "type(float('6.54'))"
   ]
  },
  {
   "cell_type": "code",
   "execution_count": 23,
   "id": "f13644b9",
   "metadata": {},
   "outputs": [
    {
     "data": {
      "text/plain": [
       "6"
      ]
     },
     "execution_count": 23,
     "metadata": {},
     "output_type": "execute_result"
    }
   ],
   "source": [
    "len('Dublin')"
   ]
  },
  {
   "cell_type": "markdown",
   "id": "ba7eb6e6",
   "metadata": {},
   "source": [
    "## Type Casting (Conversion of Data Stream to another type)\n"
   ]
  },
  {
   "cell_type": "code",
   "execution_count": 24,
   "id": "2c6c026a",
   "metadata": {},
   "outputs": [
    {
     "data": {
      "text/plain": [
       "'1 + 5 = 6'"
      ]
     },
     "execution_count": 24,
     "metadata": {},
     "output_type": "execute_result"
    }
   ],
   "source": [
    "x = 1\n",
    "y = 5\n",
    "my_string = \"{} + {} = {}\".format(x,y,x+y)\n",
    "my_string"
   ]
  },
  {
   "cell_type": "markdown",
   "id": "48de6897",
   "metadata": {},
   "source": [
    "## Conditional Operators\n",
    "\n",
    "- If\n",
    "- If-else\n",
    "- If-elif\n",
    "- If-elif-else"
   ]
  },
  {
   "cell_type": "code",
   "execution_count": 33,
   "id": "ac77ea4a",
   "metadata": {},
   "outputs": [
    {
     "name": "stdout",
     "output_type": "stream",
     "text": [
      "X is not larger in value than Y\n"
     ]
    }
   ],
   "source": [
    "x = 2\n",
    "y  = 4\n",
    "if x > y:\n",
    "    print(\"X is of larger value\")\n",
    "else:\n",
    "    print(\"X is not larger in value than Y\")"
   ]
  },
  {
   "cell_type": "code",
   "execution_count": 40,
   "id": "2708a1d9",
   "metadata": {},
   "outputs": [],
   "source": [
    "x = 2\n",
    "if x == 2:\n",
    "    pass"
   ]
  },
  {
   "cell_type": "code",
   "execution_count": 45,
   "id": "c3ab851b",
   "metadata": {},
   "outputs": [
    {
     "name": "stdout",
     "output_type": "stream",
     "text": [
      "X is not 1 and Y is 2\n"
     ]
    }
   ],
   "source": [
    "x = 3\n",
    "y = 4\n",
    "if x > 5:\n",
    "    print(\"X is not 0\")\n",
    "elif y == 2:\n",
    "    print(\"Value of Y is 2\")\n",
    "else:\n",
    "    print(\"X is not 1 and Y is 2\")"
   ]
  },
  {
   "cell_type": "markdown",
   "id": "57fea9cb",
   "metadata": {},
   "source": [
    "## Loops\n",
    "\n",
    "- For\n",
    "- While"
   ]
  },
  {
   "cell_type": "code",
   "execution_count": 47,
   "id": "00acffd8",
   "metadata": {},
   "outputs": [
    {
     "name": "stdout",
     "output_type": "stream",
     "text": [
      "0\n",
      "1\n",
      "2\n",
      "3\n",
      "4\n"
     ]
    }
   ],
   "source": [
    "for i in range(5):\n",
    "    print(i)"
   ]
  },
  {
   "cell_type": "code",
   "execution_count": null,
   "id": "2aa4521e",
   "metadata": {},
   "outputs": [],
   "source": [
    "i = 1\n",
    "while True:\n",
    "    print(i)\n",
    "    if i == 10:\n",
    "        break\n",
    "    else:\n",
    "        i = i + 1"
   ]
  },
  {
   "cell_type": "markdown",
   "id": "30e24d32",
   "metadata": {},
   "source": [
    "## Sequences\n",
    "\n",
    "- Set\n",
    "- Tuple\n",
    "- List\n",
    "- Dict"
   ]
  },
  {
   "cell_type": "code",
   "execution_count": 50,
   "id": "40d5301b",
   "metadata": {},
   "outputs": [
    {
     "name": "stdout",
     "output_type": "stream",
     "text": [
      "1\n",
      "2\n",
      "3\n",
      "4\n",
      "5\n"
     ]
    }
   ],
   "source": [
    "a = set((1,2,3,4,5))\n",
    "for i in a:\n",
    "    print(i)"
   ]
  },
  {
   "cell_type": "code",
   "execution_count": 51,
   "id": "4f32a545",
   "metadata": {},
   "outputs": [
    {
     "name": "stdout",
     "output_type": "stream",
     "text": [
      "1\n",
      "2\n",
      "3\n",
      "4\n",
      "5\n"
     ]
    }
   ],
   "source": [
    "a = list([1,2,3,4,5])\n",
    "for i in a:\n",
    "    print(i)"
   ]
  },
  {
   "cell_type": "code",
   "execution_count": 49,
   "id": "dc36aad7",
   "metadata": {},
   "outputs": [
    {
     "name": "stdout",
     "output_type": "stream",
     "text": [
      "0\n",
      "1\n",
      "2\n",
      "3\n",
      "4\n",
      "5\n",
      "6\n",
      "7\n",
      "8\n"
     ]
    }
   ],
   "source": [
    "for i in range(10):\n",
    "    print(i)\n",
    "    if i == 8:\n",
    "        break\n",
    "else:\n",
    "    print(\"Didnt finish gracefully\")"
   ]
  },
  {
   "cell_type": "code",
   "execution_count": 52,
   "id": "0f24837f",
   "metadata": {},
   "outputs": [
    {
     "name": "stdout",
     "output_type": "stream",
     "text": [
      "This number 1 is odd!\n",
      "This number 3 is odd!\n",
      "This number 5 is odd!\n",
      "This number 7 is odd!\n",
      "This number 9 is odd!\n"
     ]
    }
   ],
   "source": [
    "for i in range(10):\n",
    "    if i % 2 == 0:\n",
    "        continue\n",
    "    print(\"This number {} is odd!\".format(i))"
   ]
  },
  {
   "cell_type": "code",
   "execution_count": 53,
   "id": "0515f2dc",
   "metadata": {},
   "outputs": [
    {
     "name": "stdout",
     "output_type": "stream",
     "text": [
      "The break instruction:\n",
      "Inside the loop. 1\n",
      "Inside the loop. 2\n",
      "Outside the loop.\n",
      "\n",
      "The continue instruction:\n",
      "Inside the loop. 1\n",
      "Inside the loop. 2\n",
      "Inside the loop. 4\n",
      "Inside the loop. 5\n",
      "Outside the loop.\n"
     ]
    }
   ],
   "source": [
    "# break - example\n",
    "\n",
    "print(\"The break instruction:\")\n",
    "for i in range(1, 6):\n",
    "    if i == 3:\n",
    "        break\n",
    "    print(\"Inside the loop.\", i)\n",
    "print(\"Outside the loop.\")\n",
    "\n",
    "\n",
    "# continue - example\n",
    "\n",
    "print(\"\\nThe continue instruction:\")\n",
    "for i in range(1, 6):\n",
    "    if i == 3:\n",
    "        continue\n",
    "    print(\"Inside the loop.\", i)\n",
    "print(\"Outside the loop.\")\n"
   ]
  },
  {
   "cell_type": "code",
   "execution_count": 54,
   "id": "e2557d12",
   "metadata": {},
   "outputs": [
    {
     "name": "stdout",
     "output_type": "stream",
     "text": [
      "1\n",
      "2\n",
      "3\n",
      "4\n",
      "else: 5\n"
     ]
    }
   ],
   "source": [
    "i = 1\n",
    "while i < 5:\n",
    "    print(i)\n",
    "    i += 1\n",
    "else:\n",
    "    print(\"else:\", i)\n"
   ]
  },
  {
   "cell_type": "code",
   "execution_count": 56,
   "id": "7f176145",
   "metadata": {},
   "outputs": [
    {
     "name": "stdout",
     "output_type": "stream",
     "text": [
      "P*y*t*h*o*n*2\n",
      "4\n",
      "6\n",
      "8\n"
     ]
    }
   ],
   "source": [
    "# Example 1\n",
    "word = \"Python\"\n",
    "for letter in word:\n",
    "    print(letter, end=\"*\")\n",
    "\n",
    "# Example 2\n",
    "for i in range(1, 10):\n",
    "    if i % 2 == 0:\n",
    "        print(i)\n"
   ]
  },
  {
   "cell_type": "code",
   "execution_count": 57,
   "id": "84e5d175",
   "metadata": {},
   "outputs": [
    {
     "name": "stdout",
     "output_type": "stream",
     "text": [
      "pypypy"
     ]
    }
   ],
   "source": [
    "text = \"pyxpyxpyx\"\n",
    "for letter in text:\n",
    "    if letter == \"x\":\n",
    "        continue\n",
    "    print(letter, end=\"\")"
   ]
  }
 ],
 "metadata": {
  "kernelspec": {
   "display_name": "Python 3",
   "language": "python",
   "name": "python3"
  },
  "language_info": {
   "codemirror_mode": {
    "name": "ipython",
    "version": 3
   },
   "file_extension": ".py",
   "mimetype": "text/x-python",
   "name": "python",
   "nbconvert_exporter": "python",
   "pygments_lexer": "ipython3",
   "version": "3.8.8"
  }
 },
 "nbformat": 4,
 "nbformat_minor": 5
}
