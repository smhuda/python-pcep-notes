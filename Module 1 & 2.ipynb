{
 "cells": [
  {
   "cell_type": "markdown",
   "id": "afaac5e9",
   "metadata": {},
   "source": [
    "## Elements of a Programming Language:\n",
    "\n",
    "- Alphabet\n",
    "- Dictionary\n",
    "- Syntax\n",
    "- Semantics\n",
    "\n",
    "## Literals/Types:\n",
    "\n",
    "- Boolean (True, False)\n",
    "- Integer (1, 2, 3, 4, 5)\n",
    "- Float (1.0, 3.14, 9.67)\n",
    "- String (\"This is a string too\",'This is also a string')\n",
    "- Scientific notation (1e10)\n",
    "\n",
    "## Comments\n",
    "Single line ``(#)`` <br>\n",
    "Multiple Lines ``(\"\"\" \"\"\")`` <br>\n",
    "``\"\"\" This is a comment \"\"\"``\n",
    "\n",
    "## Help Command\n",
    "``dir(print)`` <br>\n",
    "``help(print)``"
   ]
  },
  {
   "cell_type": "markdown",
   "id": "2b01809f",
   "metadata": {},
   "source": [
    "## Print Aestericks (*) Seperator Between Alphabets"
   ]
  },
  {
   "cell_type": "code",
   "execution_count": 3,
   "id": "30aa2cde",
   "metadata": {},
   "outputs": [
    {
     "name": "stdout",
     "output_type": "stream",
     "text": [
      "a*b*c\n"
     ]
    }
   ],
   "source": [
    "print('a','b','c', sep='*')"
   ]
  },
  {
   "cell_type": "markdown",
   "id": "7c57fd53",
   "metadata": {},
   "source": [
    "## Print Alphabets with a single tab/space in between"
   ]
  },
  {
   "cell_type": "code",
   "execution_count": 6,
   "id": "62ef0b4e",
   "metadata": {},
   "outputs": [
    {
     "name": "stdout",
     "output_type": "stream",
     "text": [
      "a b c\t"
     ]
    }
   ],
   "source": [
    "print('a','b','c', end='\\t')"
   ]
  },
  {
   "cell_type": "markdown",
   "id": "9827f985",
   "metadata": {},
   "source": [
    "## Input Command Function and its Input Types\n",
    "\n",
    "``help(input)``"
   ]
  },
  {
   "cell_type": "markdown",
   "id": "dd720252",
   "metadata": {},
   "source": [
    "## String Input"
   ]
  },
  {
   "cell_type": "code",
   "execution_count": 9,
   "id": "635daa9c",
   "metadata": {},
   "outputs": [
    {
     "name": "stdout",
     "output_type": "stream",
     "text": [
      "Input Something Please:\tThis is a test\n",
      "<class 'str'>\n"
     ]
    }
   ],
   "source": [
    "a = input(\"Input Something Please:\\t\")\n",
    "print(type(a))"
   ]
  },
  {
   "cell_type": "markdown",
   "id": "76f7b2bb",
   "metadata": {},
   "source": [
    "## Integer Input"
   ]
  },
  {
   "cell_type": "code",
   "execution_count": 10,
   "id": "08c6e66a",
   "metadata": {},
   "outputs": [
    {
     "name": "stdout",
     "output_type": "stream",
     "text": [
      "Please enter number of Apples required:\t10\n",
      "<class 'int'>\n"
     ]
    }
   ],
   "source": [
    "numberOfApples = input(\"Please enter number of Apples required:\\t\")\n",
    "numberOfApples = int(numberOfApples)\n",
    "print(type(numberOfApples))"
   ]
  },
  {
   "cell_type": "markdown",
   "id": "48b7cee7",
   "metadata": {},
   "source": [
    "## Numerical Types:\n",
    "\n",
    "- Binary -> 0b1101\n",
    "- Octal -> 0o12354\n",
    "- Decimal -> 1212\n",
    "- Hexadecimal -> 0x1ae"
   ]
  },
  {
   "cell_type": "code",
   "execution_count": 19,
   "id": "80556736",
   "metadata": {},
   "outputs": [
    {
     "name": "stdout",
     "output_type": "stream",
     "text": [
      "101112\n"
     ]
    }
   ],
   "source": [
    "# Binary\n",
    "print(101112)"
   ]
  },
  {
   "cell_type": "code",
   "execution_count": 18,
   "id": "eb6b9c3b",
   "metadata": {},
   "outputs": [
    {
     "name": "stdout",
     "output_type": "stream",
     "text": [
      "5\n"
     ]
    }
   ],
   "source": [
    "# Octal\n",
    "print(0b101)"
   ]
  },
  {
   "cell_type": "code",
   "execution_count": 20,
   "id": "6565b0af",
   "metadata": {},
   "outputs": [
    {
     "name": "stdout",
     "output_type": "stream",
     "text": [
      "27\n"
     ]
    }
   ],
   "source": [
    "# Decimal\n",
    "print(0o33)"
   ]
  },
  {
   "cell_type": "code",
   "execution_count": 21,
   "id": "f1025903",
   "metadata": {},
   "outputs": [
    {
     "name": "stdout",
     "output_type": "stream",
     "text": [
      "65518\n"
     ]
    }
   ],
   "source": [
    "# Hexadecimal\n",
    "print(0xFFEE)"
   ]
  },
  {
   "cell_type": "markdown",
   "id": "6649cfac",
   "metadata": {},
   "source": [
    "## Numeric Operations Types:"
   ]
  },
  {
   "cell_type": "code",
   "execution_count": 23,
   "id": "5bff2f1a",
   "metadata": {},
   "outputs": [
    {
     "name": "stdout",
     "output_type": "stream",
     "text": [
      "4\n"
     ]
    }
   ],
   "source": [
    "# Exponent **\n",
    "print(2**2)"
   ]
  },
  {
   "cell_type": "code",
   "execution_count": 24,
   "id": "203b9a86",
   "metadata": {},
   "outputs": [
    {
     "name": "stdout",
     "output_type": "stream",
     "text": [
      "6\n"
     ]
    }
   ],
   "source": [
    "# Multiplication *\n",
    "print(2*3)"
   ]
  },
  {
   "cell_type": "code",
   "execution_count": 25,
   "id": "2709b2a9",
   "metadata": {},
   "outputs": [
    {
     "name": "stdout",
     "output_type": "stream",
     "text": [
      "2.0\n"
     ]
    }
   ],
   "source": [
    "# Division /\n",
    "print(6/3)"
   ]
  },
  {
   "cell_type": "code",
   "execution_count": 26,
   "id": "00e4e538",
   "metadata": {},
   "outputs": [
    {
     "name": "stdout",
     "output_type": "stream",
     "text": [
      "2\n"
     ]
    }
   ],
   "source": [
    "# Divison with Remainder Rounded Off\n",
    "print(2%3)"
   ]
  },
  {
   "cell_type": "code",
   "execution_count": 27,
   "id": "4fdd6f03",
   "metadata": {},
   "outputs": [
    {
     "name": "stdout",
     "output_type": "stream",
     "text": [
      "1\n"
     ]
    }
   ],
   "source": [
    "# Integer Divison Operator\n",
    "print(4//4)"
   ]
  },
  {
   "cell_type": "code",
   "execution_count": 28,
   "id": "612bf49e",
   "metadata": {},
   "outputs": [
    {
     "name": "stdout",
     "output_type": "stream",
     "text": [
      "5\n"
     ]
    }
   ],
   "source": [
    "# Addition \n",
    "print(2+3)"
   ]
  },
  {
   "cell_type": "code",
   "execution_count": 29,
   "id": "dcb009b5",
   "metadata": {},
   "outputs": [
    {
     "name": "stdout",
     "output_type": "stream",
     "text": [
      "-3\n"
     ]
    }
   ],
   "source": [
    "# Subtraction\n",
    "print(3-6)"
   ]
  },
  {
   "cell_type": "code",
   "execution_count": 30,
   "id": "589ac8b4",
   "metadata": {},
   "outputs": [
    {
     "name": "stdout",
     "output_type": "stream",
     "text": [
      "---\n"
     ]
    }
   ],
   "source": [
    "# Print hyphen strings with by multiplication\n",
    "print('-'*3)"
   ]
  },
  {
   "cell_type": "markdown",
   "id": "4f7f65eb",
   "metadata": {},
   "source": [
    "## Using Strings with Operators"
   ]
  },
  {
   "cell_type": "code",
   "execution_count": 31,
   "id": "39d3fb64",
   "metadata": {},
   "outputs": [
    {
     "name": "stdout",
     "output_type": "stream",
     "text": [
      "LovingDublin\n"
     ]
    }
   ],
   "source": [
    "print(\"Loving\" + \"Dublin\")"
   ]
  },
  {
   "cell_type": "code",
   "execution_count": 32,
   "id": "481ca36c",
   "metadata": {},
   "outputs": [
    {
     "name": "stdout",
     "output_type": "stream",
     "text": [
      "PwnedPwnedPwnedPwnedPwned\n"
     ]
    }
   ],
   "source": [
    "print(\"Pwned\"*5)"
   ]
  },
  {
   "cell_type": "code",
   "execution_count": 33,
   "id": "c0dcc1c5",
   "metadata": {},
   "outputs": [
    {
     "name": "stdout",
     "output_type": "stream",
     "text": [
      "*************************\n"
     ]
    }
   ],
   "source": [
    "loveStars = '*' * 25\n",
    "print(loveStars)"
   ]
  },
  {
   "cell_type": "markdown",
   "id": "9795791c",
   "metadata": {},
   "source": [
    "## Assginments and Shortcuts:"
   ]
  },
  {
   "cell_type": "code",
   "execution_count": 37,
   "id": "ad18c0e7",
   "metadata": {},
   "outputs": [
    {
     "name": "stdout",
     "output_type": "stream",
     "text": [
      "1\n"
     ]
    }
   ],
   "source": [
    "a = 1\n",
    "a **= 5\n",
    "print (a)"
   ]
  }
 ],
 "metadata": {
  "kernelspec": {
   "display_name": "Python 3",
   "language": "python",
   "name": "python3"
  },
  "language_info": {
   "codemirror_mode": {
    "name": "ipython",
    "version": 3
   },
   "file_extension": ".py",
   "mimetype": "text/x-python",
   "name": "python",
   "nbconvert_exporter": "python",
   "pygments_lexer": "ipython3",
   "version": "3.8.8"
  }
 },
 "nbformat": 4,
 "nbformat_minor": 5
}
